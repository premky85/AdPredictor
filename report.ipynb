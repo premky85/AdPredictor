{
 "cells": [
  {
   "cell_type": "markdown",
   "metadata": {
    "collapsed": true
   },
   "source": [
    "# Napovedovanje oglasov za prikaz uporabnikom, s ciljem povečati CTR (click-through ratio) #"
   ]
  },
  {
   "cell_type": "markdown",
   "metadata": {},
   "source": [
    "### Leon Premk, Mario Balukčič, Domen Brunček",
    "\n",
    "\n",
    "    \n",
    "    "
   ]
  },
  {
   "cell_type": "markdown",
   "metadata": {},
   "source": [
    "Na sejmu podjetij na FRI-ju smo se povezali s firmo iProm, ki so nam zagotovili podatke o uporabnikih in oglasih,\n",
    "ki jih prikazujejo. Zaradi GDPR-ja so vsi uporabniki predstavljeni z enoličnimi ID-ji. Zaupali so nam, da na dan\n",
    "dobijo 100GB podatkov, kar bi bil za nas problem, saj bi za procesiranje potrebovali vrhunsko strojno opremo. Iz\n",
    "njihovih podatkov so nam zato dali reprezentativni vzorec, s katerim lahko delamo. Kljub temu je podatkov za\n",
    "procesiranje preveč, zato smo jih moral razredčiti in odstraniti atribute, ki nam ne pomagajo.\n",
    "\n",
    "Naš glavni cilj je napovedati katere oglase prikazati uporabniku, da bi zagotovili čim večji CTR. \n",
    "\n",
    "Uporabnike bomo predstavili, kot vektorje, katerih komponente so njihovi interesi, na podlagi katerih bomo uporabnike\n",
    "razdelili v gruče. Glavni atributi, s katerimi bomo delali so SiteCategory, UserID, AdID, MasterSiteID, AdIndustry, \n",
    "Views, Clicks.\n",
    "\n",
    "Podatki so razdeljeni na več datotek glede na datum. Stolpci z vrednostnimi so ločeni s tabulatorjem."
   ]
  },
  {
   "cell_type": "markdown",
   "metadata": {},
   "source": [
    "### Atributi\n",
    "<table>\n",
    "\t<tr><th>ID</th><th>Atribut</th><th>Razlaga</th> </tr>\n",
    "\t<tr><td>1</td> <td>Date</td> <td>datum v formatu `leto-mesec-dan`</td></tr>\n",
    "\t<tr><td>2</td> <td>DayOfWeek</td> <td>dan v tednu od 0=ponedeljek do 6=nedelja</td></tr>\n",
    "\t<tr><td>3</td> <td>TimeFrame</td> <td>časovni izsek dneva - dan je razdeljen na 6 kosov po 4 ure, vrednost je indeks od 0 do 5</td></tr>\n",
    "\t<tr><td>4</td> <td>UserID</td> <td>ID uporabnika</td></tr>\n",
    "\t<tr><td>5</td> <td>SiteID</td> <td>ID obiskane spletne strani</td></tr>\n",
    "\t<tr><td>6</td> <td>CampaignID</td> <td>ID akcije kateri pripada oglas</td></tr>\n",
    "\t<tr><td>7</td> <td>AdID</td> <td>ID oglasa</td></tr>\n",
    "\t<tr><td>8</td> <td>ZoneID</td> <td>ID cone v kateri se je oglas prikazal</td></tr>\n",
    "\t<tr><td>9</td> <td>MasterSiteID</td> <td>ID medija</td></tr>\n",
    "\t<tr><td>10</td> <td>SiteCategory</td> <td>ID kategorije spletne strani, ni definiran za vse</td></tr>\n",
    "\t<tr><td>11</td> <td>AdIndustry</td> <td>ID panoge oglasa/akcije, ni definiran za vse</td></tr>\n",
    "\t<tr><td>12</td> <td>Requests</td> <td>število poslanih zahtevkov za prikaz oglasa</td></tr>\n",
    "\t<tr><td>13</td> <td>Views</td> <td>število, ki predstavlja koliko krat je uporabnik videl oglas (vsaj 50% površine oglasa v vidnem polju za vsaj 1 sekundo)</td></tr>\n",
    "\t<tr><td>14</td> <td>Clicks</td> <td>število, ki predstavlja koliko krat je uporabnik kliknil na oglas</td></tr>\n",
    "\n",
    "</table>\n",
    "\n",
    "### Panoge oglasa/akcije\n",
    "<table>\n",
    "\t<tr><th>ID</th><th>Panoga</th> </tr>\n",
    "\t<tr><td>0</td> <td>*Manjkajoč podatek</td> </tr>\n",
    "\t<tr><td>1</td> <td>Avtomobilizem</td> </tr>\n",
    "\t<tr><td>2</td> <td>Kozmetika</td> </tr>\n",
    "\t<tr><td>3</td> <td>Zdravje</td> </tr>\n",
    "\t<tr><td>4</td> <td>Dom</td> </tr>\n",
    "\t<tr><td>5</td> <td>Gospodinjstvo</td> </tr>\n",
    "\t<tr><td>6</td> <td>Hrana&Pijaca</td> </tr>\n",
    "\t<tr><td>7</td> <td>Moda</td> </tr>\n",
    "\t<tr><td>8</td> <td>Informacijska tehnologija</td> </tr>\n",
    "\t<tr><td>9</td> <td>Zabava&prosti cas</td> </tr>\n",
    "\t<tr><td>10</td> <td>Telekomunikacije</td> </tr>\n",
    "\t<tr><td>11</td> <td>Finance</td> </tr>\n",
    "\t<tr><td>12</td> <td>Izobraževanje</td> </tr>\n",
    "\t<tr><td>13</td> <td>Storitve</td> </tr>\n",
    "\t<tr><td>14</td> <td>Turizem</td> </tr>\n",
    "\t<tr><td>15</td> <td>Ostalo</td> </tr>\n",
    "\t<tr><td>16</td> <td>Nepremičnine</td> </tr>\n",
    "\t<tr><td>17</td> <td>Trgovina</td> </tr>\n",
    "\t<tr><td>18</td> <td>Šport</td> </tr>\n",
    "\t<tr><td>21</td> <td>Test</td> </tr>\n",
    "\t<tr><td>22</td> <td>Test</td> </tr>\n",
    "\n",
    "</table>\n",
    "\n",
    "### Kategorije spletnih strani\n",
    "<table>\n",
    "\t<tr><th>ID</th><th>Panoga</th> </tr>\n",
    "\t<tr><td>0</td> <td>*Manjkajoč podatek</td> </tr>\n",
    "\t<tr><td>1</td> <td>Arts & Entertainment</td> </tr>\n",
    "\t<tr><td>2</td> <td>Avtomobilizem</td> </tr>\n",
    "\t<tr><td>3</td> <td>Business</td> </tr>\n",
    "\t<tr><td>4</td> <td>Mlade družine</td> </tr>\n",
    "\t<tr><td>5</td> <td>Zdravje</td> </tr>\n",
    "\t<tr><td>6</td> <td>Kulinarika</td> </tr>\n",
    "\t<tr><td>7</td> <td>Hobbies & Interests</td> </tr>\n",
    "\t<tr><td>8</td> <td>Dom in Vrt</td> </tr>\n",
    "\t<tr><td>9</td> <td>Novice</td> </tr>\n",
    "\t<tr><td>10</td> <td>Sports</td> </tr>\n",
    "\t<tr><td>11</td> <td>Style & Fashion</td> </tr>\n",
    "\t<tr><td>12</td> <td>Technology & Computing</td> </tr>\n",
    "\t<tr><td>13</td> <td>Travel</td> </tr>\n",
    "\t<tr><td>14</td> <td>Nepremičnine</td> </tr>\n",
    "\t<tr><td>15</td> <td>Careers</td> </tr>\n",
    "\t<tr><td>16</td> <td>Education</td> </tr>\n",
    "\t<tr><td>17</td> <td>Law Govt & Politics</td> </tr>\n",
    "\t<tr><td>18</td> <td>Personal Finance</td> </tr>\n",
    "\t<tr><td>19</td> <td>Society</td> </tr>\n",
    "\t<tr><td>20</td> <td>Science</td> </tr>\n",
    "\t<tr><td>21</td> <td>Pets</td> </tr>\n",
    "\t<tr><td>22</td> <td>Shopping</td> </tr>\n",
    "\t<tr><td>23</td> <td>Religion and Spirituality</td> </tr>\n",
    "\t<tr><td>24</td> <td>Uncategorized</td> </tr>\n",
    "\t<tr><td>25</td> <td>Non Standard Content</td> </tr>\n",
    "\t<tr><td>26</td> <td>Illegal Content</td> </tr>\n",
    "\t<tr><td>1000</td> <td>Aktivni športniki</td> </tr>\n",
    "\t<tr><td>1001</td> <td>Šport</td> </tr>\n",
    "\t<tr><td>1002</td> <td>Mladi in Najmlajši</td> </tr>\n",
    "\t<tr><td>1003</td> <td>Gospodarstvo in Posel</td> </tr>\n",
    "\t<tr><td>1004</td> <td>Lifestyle/Trendi</td> </tr>\n",
    "\t<tr><td>1005</td> <td>iTech & Mobile & Foto</td> </tr>\n",
    "\t<tr><td>1006</td> <td>Turizem</td> </tr>\n",
    "\t<tr><td>1007</td> <td>Prosti čas</td> </tr>\n",
    "\t<tr><td>1008</td> <td>Test</td> </tr>\n",
    "\t<tr><td>1009</td> <td>Test</td> </tr>\n",
    "\t<tr><td>1010</td> <td>zavarovalnistvo</td> </tr>\n",
    "\n",
    "</table>"
   ]
  },
  {
   "cell_type": "markdown",
   "metadata": {},
   "source": [
    "Na začetku smo naredili nekaj statističnih raziskav, da smo se bolje spoznali s podatki. Ugotovili smo, da se CTR spreminja glede na to kateri dan v tednu gledamo, kar bomo pri raziskavi morali upoštevati. Največ uporabnikov ima CTR okoli 0.1% kar pomeni, da klikne na vsak 1000 oglas, ki se jim prikaže. Naš cilj bo to izboljšati, s pomočjo napovedovanja glede na njihove interese.\n",
    "\n",
    "\n",
    "\n",
    "![](Visualization/users_ctr.png)\n",
    "![](Visualization/ctr_days.png)\n",
    "![](Visualization/campaign_1.png)\n"
   ]
  },
  {
   "cell_type": "markdown",
   "metadata": {},
   "source": [
    "Ko smo začeli razmišljati o tem, gleda na kateri atribut naj naredimo gruče za kasnejše napovedovanje smo naleteli na vprašanje, ali lahko na enak način obravnavamo uporabnike, ki še nikoli niso kliknili na oglas in tiste, ki so že. Na koncu smo se odločili, da bomo uporabnike segmentirali glede na to, ali so že kdaj kliknili na oglas in na podlagi tega za vsak segment ustvarili svoj model, ki bo napovedoval najboljšo panogo oglasa, ki bi jo bilo smiselno prikazati uporabniku."
   ]
  },
  {
   "cell_type": "code",
   "execution_count": 3,
   "metadata": {},
   "outputs": [],
   "source": [
    "import pandas as pd\n",
    "import glob\n",
    "import os"
   ]
  },
  {
   "cell_type": "code",
   "execution_count": 4,
   "metadata": {},
   "outputs": [
    {
     "name": "stdout",
     "output_type": "stream",
     "text": [
      "First 10 users with clicks:\n        userID  Clicks\n26   100037018       1\n38   100056603       2\n152  100197708       2\n165  100208142       6\n178  100221421       2\n390  100473297       1\n436  100521394       1\n525  100610615       1\n526  100611985       1\n545  100630487       1\n\n"
     ]
    },
    {
     "name": "stdout",
     "output_type": "stream",
     "text": [
      "First 10 users without clicks:\n      userID  Clicks\n0  100000069       0\n1  100001697       0\n2  100002417       0\n3  100003687       0\n4  100004824       0\n5  100005130       0\n6  100006394       0\n7  100007912       0\n8  100008156       0\n9  100008560       0\n"
     ]
    }
   ],
   "source": [
    "path = \"sample_data/sample_1.csv\"\n",
    "\n",
    "all_files = glob.glob(path)\n",
    "df = pd.concat((pd.read_csv(f, header=None, sep='\\t', usecols=[3, 13], names=[\"userID\", \"Clicks\"]) for f in all_files), ignore_index=True)\n",
    "\n",
    "\n",
    "df1 = df.groupby([\"userID\"]).sum().reset_index()\n",
    "df1 = df1[df1[\"Clicks\"] != 0]\n",
    "df1.to_csv(\"./sample_data/users_1.csv\", \"\\t\", header=[\"userID\", \"Clicks\"])\n",
    "print(\"First 10 users with clicks:\")\n",
    "print(df1[:10])\n",
    "print()\n",
    "\n",
    "df2 = df.groupby([\"userID\"]).sum().reset_index()\n",
    "df2 = df2[df2[\"Clicks\"] == 0]\n",
    "df2.to_csv(\"./sample_data/users_0.csv\", \"\\t\", header=[\"userID\", \"Clicks\"])\n",
    "print(\"First 10 users without clicks:\")\n",
    "print(df2[:10])"
   ]
  },
  {
   "cell_type": "code",
   "execution_count": 5,
   "metadata": {},
   "outputs": [],
   "source": [
    "unique_user_id_1 = \"./sample_data/users_1.csv\"\n",
    "unique_user_id_0 = \"./sample_data/users_0.csv\"\n",
    "\n",
    "\n",
    "\n",
    "df_ids_1 = pd.read_csv(unique_user_id_1, header=0, sep='\\t', usecols=[1])\n",
    "df_ids_0 = pd.read_csv(unique_user_id_0, header=0, sep='\\t', usecols=[1])\n",
    "\n",
    "\n",
    "all_files = glob.glob(path)\n",
    "for f in all_files:\n",
    "    df = pd.read_csv(f, header=None, sep='\\t',\n",
    "                     names=[\"Date\", \"DayOfWeek\", \"TimeFrame\", \"UserID\", \"SiteID\", \"CampaignID\", \"AdID\", \"ZoneID\",\n",
    "                            \"MasterSiteID\", \"SiteCategory\", \"AdIndustry\", \"Requests\", \"Views\", \"Clicks\"],\n",
    "                     index_col=False)\n",
    "\n",
    "    name = os.path.basename(f)\n",
    "\n",
    "    df_0 = df.loc[df[\"UserID\"].isin(df_ids_0.values)]\n",
    "\n",
    "    df_0.to_csv(\"./sample_data/0\" + \"\\\\\" + name, \"\\t\",\n",
    "              header=[\"Date\", \"DayOfWeek\", \"TimeFrame\", \"UserID\", \"SiteID\", \"CampaignID\", \"AdID\", \"ZoneID\",\n",
    "                      \"MasterSiteID\", \"SiteCategory\", \"AdIndustry\", \"Requests\", \"Views\", \"Clicks\"], index=False)\n",
    "\n",
    "    df_1 = df.loc[df[\"UserID\"].isin(df_ids_1.values)]\n",
    "\n",
    "    df_1.to_csv(\"./sample_data/1\" + \"\\\\\" + name, \"\\t\",\n",
    "                header=[\"Date\", \"DayOfWeek\", \"TimeFrame\", \"UserID\", \"SiteID\", \"CampaignID\", \"AdID\", \"ZoneID\",\n",
    "                        \"MasterSiteID\", \"SiteCategory\", \"AdIndustry\", \"Requests\", \"Views\", \"Clicks\"], index=False)\n",
    "    \n",
    "    "
   ]
  },
  {
   "cell_type": "markdown",
   "metadata": {},
   "source": [
    "Po delitvi smo lahko začeli graditi modela za napoved. Prvi model je bil za uporabnike, ki so v njihovi zgodovini že kdaj kliknili na oglas. Najprej je bilo potrebno iz njih ustvariti vektorje, ki opisujejo katere vrste oglasov so do sedaj že kliknili. To je temeljna informacija, ki opisuje njihove navade in uporabnike deli v skupine. Na podlagi teh informacij smo najprej izvedli PCA, da smo dobili informacijo o podobnosti uporabnikov, prav tako pa smo iz vektorjev dolžine 22 prostor zmanjšali na dve dimenziji, kar omogoče bolj intuitivno vizualizacijo."
   ]
  },
  {
   "cell_type": "code",
   "execution_count": 6,
   "metadata": {},
   "outputs": [
    {
     "data": {
      "image/png": "[encoded data removed]",
      "text/plain": [
       "<Figure size 432x288 with 1 Axes>"
      ]
     },
     "metadata": {},
     "output_type": "display_data"
    }
   ],
   "source": [
    "import numpy as np\n",
    "import glob\n",
    "import pandas as pd\n",
    "from sklearn.cluster import KMeans\n",
    "import matplotlib.pyplot as plt\n",
    "from sklearn.decomposition import PCA\n",
    "class Model1:\n",
    "\n",
    "    def __init__(self,path):\n",
    "        self.path = path\n",
    "        self.all_files = glob.glob(path)\n",
    "        self.df, self.df2 = self.read_to_df(self.all_files)\n",
    "        self.k_clusters = 6\n",
    "        self.categories = np.arange(23)\n",
    "        self.users = \"\"\n",
    "        self.labels = \"\"\n",
    "        self.centroids = \"\"\n",
    "        self.dimension_reduce = \"\"\n",
    "        self.userSkupina = \"\"\n",
    "\n",
    "    def read_to_df(self,all_files):\n",
    "        df = pd.read_csv(f, header=0, sep='\\t', usecols=[3, 10, 13], dtype={\"Clicks\": np.float},  names=[\"UserID\", \"AdIndustry\", \"Clicks\"])\n",
    "        df = df.loc[(df[\"AdIndustry\"] != 0)] #& (df[\"AdIndustry\"] != \"0\")]\n",
    "        df = df.groupby([\"UserID\", \"AdIndustry\"]).sum()\n",
    "        df = df.loc[df[\"Clicks\"] > 0]\n",
    "        pomozni = df.copy().reset_index()\n",
    "        #df2 = df.copy().reset_index() # real clicks\n",
    "        #del df2[\"AdIndustry\"]\n",
    "        #df2 = df2.groupby(\"UserID\").sum().reset_index()\n",
    "        df = df.groupby(level=0).apply(lambda x: 100 * x/x.sum()).reset_index()\n",
    "        df.rename(columns={df.columns[2]: \"Size\"}, inplace=True)\n",
    "        #self.df = df\n",
    "        #self.df2 = df2\n",
    "        return df,pomozni\n",
    "\n",
    "\n",
    "    def build_matrix_1(self,df):\n",
    "        from collections import defaultdict\n",
    "        self.users = self.df[\"UserID\"].unique() # vsi unikatni userji (no duplicates)\n",
    "\n",
    "        vektoruser = defaultdict(dict) # slovar slovarjev\n",
    "\n",
    "        # index je row index(tega nerabmo)\n",
    "        # user = UserID in SiteCategory in Size\n",
    "        for index, user in self.df.iterrows():\n",
    "            vektoruser[user[\"UserID\"]][user[\"AdIndustry\"]] = user[\"Size\"] # prvi slovar so userji, kljuci so slovarji kategorij vrednosr je size(procenti)\n",
    "\n",
    "        # predpripavimo matriko, tako da vse vrednosti nastavimo na 0\n",
    "        matrika=[]\n",
    "        for _ in range(0,len(self.users)):\n",
    "            row=[]\n",
    "            for _ in range(0,len(self.categories)):\n",
    "                row.append(0)\n",
    "            matrika.append(row)\n",
    "\n",
    "        # skozi vse userje (i = vrstica) in skozi vse kategorije (j = stolpec)\n",
    "        for i,user in enumerate(self.users):\n",
    "            for j,category in enumerate(self.categories):\n",
    "                if user in vektoruser and category in vektoruser[user]:\n",
    "                    matrika[i][j] = vektoruser[user][category]\n",
    "        return np.array(matrika)\n",
    "\n",
    "    def kmeans(self, k):\n",
    "        self.k_clusters = k\n",
    "        matrika = self.build_matrix_1(self.df)\n",
    "        embedding = PCA(n_components=2)\n",
    "        self.dimension_reduce =  embedding.fit_transform(matrika)\n",
    "        kmeans = KMeans(n_clusters=self.k_clusters, max_iter=150).fit(self.dimension_reduce)\n",
    "        self.labels = kmeans.labels_\n",
    "        self.centroids = kmeans.cluster_centers_\n",
    "\n",
    "    '''\n",
    "    kmeans = KMeans(K=6, X=dimension_reduce, M=dimension_reduce, resolve_empty='singleton')\n",
    "    kmeans.initialise()\n",
    "    kmeans.cluster()\n",
    "    clustering_results = kmeans.clustering_results\n",
    "    labels = np.where(clustering_results == 1)[1]\n",
    "    '''\n",
    "    def plot(self):\n",
    "        color = {0:\"red\", 1:\"blue\", 2:\"yellow\", 3:'green', 4:'violet', 5:'pink', 6: 'black'}\n",
    "        for c, x in zip(self.labels, self.dimension_reduce):\n",
    "            plt.plot(x[0], x[1], \".\", color=color[c], markersize=10.0, alpha=0.05)\n",
    "\n",
    "        for x,y in self.centroids:\n",
    "            plt.plot(x,y,\"x\", color=\"black\", markersize=5.0, alpha=1)\n",
    "        plt.show()\n",
    "\n",
    "    def results(self):\n",
    "        matrika = []\n",
    "        for _ in range(self.k_clusters):\n",
    "            row = []\n",
    "            for _ in self.categories:\n",
    "                row.append(0)\n",
    "            matrika.append(row)\n",
    "\n",
    "        self.userSkupina = { i: set() for i in range(self.k_clusters)}\n",
    "\n",
    "        for i,x in enumerate(self.users):\n",
    "            poizvedba = self.df2.loc[self.df2[\"UserID\"] == x]\n",
    "            kliki = poizvedba[\"Clicks\"].sum()\n",
    "            self.userSkupina[self.labels[i]].add((x,kliki))\n",
    "\n",
    "        # TODO: Izboljšaj to gradnjo matrike, ker je počasnejša od tvoje mame.\n",
    "        for k,v in self.userSkupina.items(): # k = gruca a.k.a vrstice\n",
    "            vsi = sum(n for _,n in v)    # vsi kliki v gruci\n",
    "            for i in self.categories:    # za vsako kategorijo\n",
    "                sestevek = 0\n",
    "                for user,_ in v:         # za vsakega userja v gruci gledam koliko klikov na kategorijo ma\n",
    "                    sql = self.df2.loc[(self.df2[\"UserID\"] == user) & (self.df2[\"AdIndustry\"] == i)]\n",
    "                    if not sql.empty:\n",
    "                        sestevek += sql.values[0][2]\n",
    "                matrika[k][i] = sestevek/vsi\n",
    "        return np.array(matrika)\n",
    "\n",
    "\n",
    "model1 = Model1(\"./sample_data/1/sample_1\")\n",
    "model1.kmeans(5)\n",
    "model1.plot()"
   ]
  },
  {
   "cell_type": "markdown",
   "metadata": {},
   "source": [
    "Ugotovili smo, da se glede na klike formira malo gruč. Najprej nas je zmedlo, ker se je na grafu izrisalo le nekaj krogcev, ki predstavljajo uporabnike, vendar smo kasneje ugotovili, da glede na to, da je klikov relativno malo obstaja večja verjetnost, da ista pika predstalja več uporabnikov, kar se je izkazalo za resnično, kar smo ugotovili tako, da smo plotu dodali alfa vrednost, ki je pokazala to, da so bolj obarvane točke večje gruče uporabnikov. Najbolje se nam je zdelo, da za število gruč vzamemo kar število različnih točk."
   ]
  },
  {
   "cell_type": "markdown",
   "metadata": {},
   "source": [
    "Nato smo zgradili še model za napovedovanje, za uporabnike, ki še niso nikoli kliknili. Za razliko od prej, ko smo za gručenje uporabljali informacijo o tem, katere oglase so posamezniki kdaj klikali, smo v tem primeru izbrali za atribut po katerem bomo izvedli gručenje kategorije spletnih strani, ki jih uporabnik obiskuje. Predvidevali smo, da bo tokrat graf bolj heterogen, kar se je izkazalo za resnico, saj ljudje ponavadi obiskujemo več vrst spletnih strani."
   ]
  },
  {
   "cell_type": "code",
   "execution_count": 10,
   "metadata": {},
   "outputs": [
    {
     "data": {
      "image/png": "[encoded data removed]",
      "text/plain": [
       "<Figure size 432x288 with 1 Axes>"
      ]
     },
     "metadata": {},
     "output_type": "display_data"
    }
   ],
   "source": [
    "import numpy as np\n",
    "import glob\n",
    "import pandas as pd\n",
    "import matplotlib.pyplot as plt\n",
    "from sklearn.decomposition import PCA\n",
    "from sklearn.cluster import KMeans\n",
    "from random import randint\n",
    "from collections import defaultdict\n",
    "\n",
    "class ModelUsersWithNoClicks:\n",
    "    def __init__(self, path):\n",
    "        self.all_files = glob.glob(path)\n",
    "        self.df = self.process_data()\n",
    "        self.matrix = self.make_matrix()\n",
    "\n",
    "    def process_data(self):\n",
    "        original_df = pd.read_csv(path, header=0, sep='\\t', usecols=[3, 9], names=[\"UserID\", \"SiteCategory\"], dtype={\"UserID\": np.int64, \"siteCategory\": np.float})\n",
    "        df = original_df.loc[(original_df[\"SiteCategory\"] != 0)]\n",
    "        df = df.groupby([\"UserID\", \"SiteCategory\"]).size()\n",
    "        df = df.groupby(level=0).apply(lambda x: 100 * x / float(x.sum())).reset_index()\n",
    "        df.rename(columns={df.columns[2]: \"Size\"}, inplace=True)\n",
    "        return df\n",
    "\n",
    "    def make_matrix(self):\n",
    "        users = self.df[\"UserID\"].unique()[:-1]  # vsi unikatni userji (no duplicates)\n",
    "        categories = self.df[\"SiteCategory\"].unique()[:-1]  # vse unikatne kategorija\n",
    "\n",
    "        vector_users = defaultdict(dict)  # slovar slovarjev\n",
    "        # user = UserID in SiteCategory in Size\n",
    "        for index, user in self.df.iterrows():\n",
    "            vector_users[user[\"UserID\"]][user[\"SiteCategory\"]] = user[\"Size\"]  # prvi slovar so userji, kljuci so slovarji kategorij vrednosr je size(procenti)\n",
    "\n",
    "        # fill matrix rows with 0\n",
    "        matrika = []\n",
    "        for _ in range(0, len(users)):\n",
    "            row = []\n",
    "            for _ in range(0, len(categories)):\n",
    "                row.append(0)\n",
    "            matrika.append(row)\n",
    "\n",
    "        # skozi vse userje (i = vrstica) in skozi vse kategorije (j = stolpec)\n",
    "        for i, user in enumerate(users):\n",
    "            for j, category in enumerate(categories):\n",
    "                if user in vector_users and category in vector_users[user]:\n",
    "                    matrika[i][j] = vector_users[user][category]\n",
    "        return np.array(matrika)\n",
    "\n",
    "    def kMeans(self, k, plot=False):\n",
    "        embedding = PCA(n_components=2)\n",
    "        dimension_reduce = embedding.fit_transform(self.matrix[:10000])\n",
    "        #print(dimension_reduce)\n",
    "\n",
    "        colors = [\"#%06X\" % randint(0, 0xFFFFFF) for i in range(k)]\n",
    "        kmeans = KMeans(n_clusters=k, max_iter=150).fit(dimension_reduce)\n",
    "        labels = kmeans.labels_\n",
    "        centroids = kmeans.cluster_centers_\n",
    "        if plot: self.plot(dimension_reduce, colors, labels, centroids)\n",
    "\n",
    "    def plot(self, dimensions, colors, labels, centroids):\n",
    "        #print(\"plot\")\n",
    "        for c, x in zip(labels, dimensions):\n",
    "            plt.plot(x[0], x[1], \".\", color=colors[c], markersize=10.0)\n",
    "        for x, y in centroids:\n",
    "            plt.plot(x, y, \"x\", markersize=5, color=\"black\")\n",
    "        plt.show()\n",
    "        #print(\"plotted\")\n",
    "\n",
    "    def show_df(self):\n",
    "        print(self.matrix)\n",
    "\n",
    "\n",
    "a = ModelUsersWithNoClicks(\"./sample_data/0/sample_1\")\n",
    "a.kMeans(40, True)\n",
    "\n",
    "\n"
   ]
  },
  {
   "cell_type": "markdown",
   "metadata": {},
   "source": [
    "Naslednje vprašanje, ki se nam je postavilo je bilo, kolikšno je smiselno število gruč. Odločitev smo prepustili testiranju. Odločili smo se, da bomo prečno preverjanje pognali za različne vrednosti K, na koncu pa nam bo rezultat testiranja povedal, katera vrednost je najbolj optimalna."
   ]
  },
  {
   "cell_type": "markdown",
   "metadata": {},
   "source": [
    "Nato smo naše ugotovitve še testirali. Ker smo že od prejšnjih statističnih raziskav ugotovili, da se navade klikanja oglasov spreminjajo glede na dan v tednu smo se odločili, da bomo izvedli prečno preverjanje za vsak dan. Za učno množico smo vzeli prvih 60 procentov vnosov na podlagi katerih smo ustvarili model s pomočjo K Means. Naslednjih 20 procentov informacij smo uporabili, da smo se naučili o uporabnikovih navadah in ygradili vektorje iz uporabnikov. Na zadnjih 20 procentov informacij smo izvedli testiranje. Za vsak vnos smo najprej preverili, če je uporabnik kliknil na oglas, to zato, ker smo samo na podlagi teh vnosov (tistih za katere vemo, da je bil oglas kliknjen zaradi česar lahko trdimo pravilnost prikazanega oglasa) lahko ugotovili, kako dober je naš model za napovedovanje. Nato smo glede na dosedanje informacije, ki smo jih zbirali v prejšnjih 20 procentih izbrali kateri model bomo uporabili za napovedovanje. Če je bil oglas pravilno napovedan, smo ga prišteli k vsem zadetim, sproti pa smo šteli vsa preverjanja. Na koncu smo izračunali odstotek, ki nam je povedal s kakšno točnostjo lahko napovemo kategorijo oglasa, ki bi ga uporabnik kliknil, če obiskuje določeno vrsto spletnih strani ali klika na določeno kategorijo oglasov."
   ]
  },
  {
   "cell_type": "markdown",
   "metadata": {},
   "source": [
    "Rezultati, ki smo jih dobili, so bili pod našimi pričakovanji - CA okoli 25%. To bi lahko utemeljili s tem, ker med oglasi obstaja panoga 0, ki je manjkajoč podatek, prav tako pa zelo majhen odstotek ljudi klikne na oglas, kar pomeni, da že malo napak lahko povzroči nizek CA. Prav tako pa nam ni uspelo dokončati preverjanja modela (zaradi velike kloičine podatkov vsak popravek vzame veliko časa, preden program vrže napako), za napovedovanje uporabnikom, ki še niso kliknili na oglas, kar bi v najboljšem primeru lahko dvignilo točnost napovedi, saj večina uporabnikov sodi v to kategorijo.",
    "\n"
   ]
  }
 ],
 "metadata": {
  "kernelspec": {
   "display_name": "Python 2",
   "language": "python",
   "name": "python2"
  },
  "language_info": {
   "codemirror_mode": {
    "name": "ipython",
    "version": 2
   },
   "file_extension": ".py",
   "mimetype": "text/x-python",
   "name": "python",
   "nbconvert_exporter": "python",
   "pygments_lexer": "ipython2",
   "version": "2.7.6"
  }
 },
 "nbformat": 4,
 "nbformat_minor": 0
}
